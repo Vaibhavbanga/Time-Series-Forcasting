{
 "cells": [
  {
   "cell_type": "markdown",
   "metadata": {},
   "source": [
    "# Importing Libraries "
   ]
  },
  {
   "cell_type": "code",
   "execution_count": 1,
   "metadata": {},
   "outputs": [],
   "source": [
    "import numpy as np\n",
    "import pandas as pd\n",
    "import seaborn as sns\n",
    "import matplotlib.pyplot as plt"
   ]
  },
  {
   "cell_type": "markdown",
   "metadata": {},
   "source": [
    "# Importing Data"
   ]
  },
  {
   "cell_type": "code",
   "execution_count": 2,
   "metadata": {},
   "outputs": [],
   "source": [
    "Time_Series = pd.read_csv(\"C:/Users/Vaibhav Banga/Downloads/AirPassengers.csv\")"
   ]
  },
  {
   "cell_type": "markdown",
   "metadata": {},
   "source": [
    "# EDA - Exploratory Data Analysis"
   ]
  },
  {
   "cell_type": "code",
   "execution_count": 3,
   "metadata": {},
   "outputs": [
    {
     "data": {
      "text/html": [
       "<div>\n",
       "<style scoped>\n",
       "    .dataframe tbody tr th:only-of-type {\n",
       "        vertical-align: middle;\n",
       "    }\n",
       "\n",
       "    .dataframe tbody tr th {\n",
       "        vertical-align: top;\n",
       "    }\n",
       "\n",
       "    .dataframe thead th {\n",
       "        text-align: right;\n",
       "    }\n",
       "</style>\n",
       "<table border=\"1\" class=\"dataframe\">\n",
       "  <thead>\n",
       "    <tr style=\"text-align: right;\">\n",
       "      <th></th>\n",
       "      <th>Month</th>\n",
       "      <th>#Passengers</th>\n",
       "    </tr>\n",
       "  </thead>\n",
       "  <tbody>\n",
       "    <tr>\n",
       "      <th>0</th>\n",
       "      <td>1949-01</td>\n",
       "      <td>112</td>\n",
       "    </tr>\n",
       "    <tr>\n",
       "      <th>1</th>\n",
       "      <td>1949-02</td>\n",
       "      <td>118</td>\n",
       "    </tr>\n",
       "    <tr>\n",
       "      <th>2</th>\n",
       "      <td>1949-03</td>\n",
       "      <td>132</td>\n",
       "    </tr>\n",
       "    <tr>\n",
       "      <th>3</th>\n",
       "      <td>1949-04</td>\n",
       "      <td>129</td>\n",
       "    </tr>\n",
       "    <tr>\n",
       "      <th>4</th>\n",
       "      <td>1949-05</td>\n",
       "      <td>121</td>\n",
       "    </tr>\n",
       "  </tbody>\n",
       "</table>\n",
       "</div>"
      ],
      "text/plain": [
       "     Month  #Passengers\n",
       "0  1949-01          112\n",
       "1  1949-02          118\n",
       "2  1949-03          132\n",
       "3  1949-04          129\n",
       "4  1949-05          121"
      ]
     },
     "execution_count": 3,
     "metadata": {},
     "output_type": "execute_result"
    }
   ],
   "source": [
    "Time_Series.head()"
   ]
  },
  {
   "cell_type": "code",
   "execution_count": 4,
   "metadata": {},
   "outputs": [
    {
     "data": {
      "text/html": [
       "<div>\n",
       "<style scoped>\n",
       "    .dataframe tbody tr th:only-of-type {\n",
       "        vertical-align: middle;\n",
       "    }\n",
       "\n",
       "    .dataframe tbody tr th {\n",
       "        vertical-align: top;\n",
       "    }\n",
       "\n",
       "    .dataframe thead th {\n",
       "        text-align: right;\n",
       "    }\n",
       "</style>\n",
       "<table border=\"1\" class=\"dataframe\">\n",
       "  <thead>\n",
       "    <tr style=\"text-align: right;\">\n",
       "      <th></th>\n",
       "      <th>Month</th>\n",
       "      <th>#Passengers</th>\n",
       "    </tr>\n",
       "  </thead>\n",
       "  <tbody>\n",
       "    <tr>\n",
       "      <th>139</th>\n",
       "      <td>1960-08</td>\n",
       "      <td>606</td>\n",
       "    </tr>\n",
       "    <tr>\n",
       "      <th>140</th>\n",
       "      <td>1960-09</td>\n",
       "      <td>508</td>\n",
       "    </tr>\n",
       "    <tr>\n",
       "      <th>141</th>\n",
       "      <td>1960-10</td>\n",
       "      <td>461</td>\n",
       "    </tr>\n",
       "    <tr>\n",
       "      <th>142</th>\n",
       "      <td>1960-11</td>\n",
       "      <td>390</td>\n",
       "    </tr>\n",
       "    <tr>\n",
       "      <th>143</th>\n",
       "      <td>1960-12</td>\n",
       "      <td>432</td>\n",
       "    </tr>\n",
       "  </tbody>\n",
       "</table>\n",
       "</div>"
      ],
      "text/plain": [
       "       Month  #Passengers\n",
       "139  1960-08          606\n",
       "140  1960-09          508\n",
       "141  1960-10          461\n",
       "142  1960-11          390\n",
       "143  1960-12          432"
      ]
     },
     "execution_count": 4,
     "metadata": {},
     "output_type": "execute_result"
    }
   ],
   "source": [
    "Time_Series.tail()"
   ]
  },
  {
   "cell_type": "code",
   "execution_count": 5,
   "metadata": {},
   "outputs": [
    {
     "data": {
      "text/plain": [
       "Month          object\n",
       "#Passengers     int64\n",
       "dtype: object"
      ]
     },
     "execution_count": 5,
     "metadata": {},
     "output_type": "execute_result"
    }
   ],
   "source": [
    "Time_Series.dtypes"
   ]
  },
  {
   "cell_type": "code",
   "execution_count": 6,
   "metadata": {},
   "outputs": [
    {
     "name": "stdout",
     "output_type": "stream",
     "text": [
      "<class 'pandas.core.frame.DataFrame'>\n",
      "RangeIndex: 144 entries, 0 to 143\n",
      "Data columns (total 2 columns):\n",
      " #   Column       Non-Null Count  Dtype \n",
      "---  ------       --------------  ----- \n",
      " 0   Month        144 non-null    object\n",
      " 1   #Passengers  144 non-null    int64 \n",
      "dtypes: int64(1), object(1)\n",
      "memory usage: 2.4+ KB\n"
     ]
    }
   ],
   "source": [
    "Time_Series.info()"
   ]
  },
  {
   "cell_type": "code",
   "execution_count": 7,
   "metadata": {},
   "outputs": [
    {
     "data": {
      "text/html": [
       "<div>\n",
       "<style scoped>\n",
       "    .dataframe tbody tr th:only-of-type {\n",
       "        vertical-align: middle;\n",
       "    }\n",
       "\n",
       "    .dataframe tbody tr th {\n",
       "        vertical-align: top;\n",
       "    }\n",
       "\n",
       "    .dataframe thead th {\n",
       "        text-align: right;\n",
       "    }\n",
       "</style>\n",
       "<table border=\"1\" class=\"dataframe\">\n",
       "  <thead>\n",
       "    <tr style=\"text-align: right;\">\n",
       "      <th></th>\n",
       "      <th>#Passengers</th>\n",
       "    </tr>\n",
       "  </thead>\n",
       "  <tbody>\n",
       "    <tr>\n",
       "      <th>count</th>\n",
       "      <td>144.000000</td>\n",
       "    </tr>\n",
       "    <tr>\n",
       "      <th>mean</th>\n",
       "      <td>280.298611</td>\n",
       "    </tr>\n",
       "    <tr>\n",
       "      <th>std</th>\n",
       "      <td>119.966317</td>\n",
       "    </tr>\n",
       "    <tr>\n",
       "      <th>min</th>\n",
       "      <td>104.000000</td>\n",
       "    </tr>\n",
       "    <tr>\n",
       "      <th>25%</th>\n",
       "      <td>180.000000</td>\n",
       "    </tr>\n",
       "    <tr>\n",
       "      <th>50%</th>\n",
       "      <td>265.500000</td>\n",
       "    </tr>\n",
       "    <tr>\n",
       "      <th>75%</th>\n",
       "      <td>360.500000</td>\n",
       "    </tr>\n",
       "    <tr>\n",
       "      <th>max</th>\n",
       "      <td>622.000000</td>\n",
       "    </tr>\n",
       "  </tbody>\n",
       "</table>\n",
       "</div>"
      ],
      "text/plain": [
       "       #Passengers\n",
       "count   144.000000\n",
       "mean    280.298611\n",
       "std     119.966317\n",
       "min     104.000000\n",
       "25%     180.000000\n",
       "50%     265.500000\n",
       "75%     360.500000\n",
       "max     622.000000"
      ]
     },
     "execution_count": 7,
     "metadata": {},
     "output_type": "execute_result"
    }
   ],
   "source": [
    "Time_Series.describe()"
   ]
  },
  {
   "cell_type": "markdown",
   "metadata": {},
   "source": [
    "# Data Indexing "
   ]
  },
  {
   "cell_type": "code",
   "execution_count": 8,
   "metadata": {},
   "outputs": [],
   "source": [
    "#Convert 'object' Data_type to Date_Time Datatype\n",
    "Dateparser = lambda Date : pd.datetime.strptime(Date,'%Y-%m')\n"
   ]
  },
  {
   "cell_type": "code",
   "execution_count": 9,
   "metadata": {},
   "outputs": [
    {
     "name": "stderr",
     "output_type": "stream",
     "text": [
      "C:\\Users\\Vaibhav Banga\\anaconda3\\lib\\site-packages\\ipykernel_launcher.py:2: FutureWarning: The pandas.datetime class is deprecated and will be removed from pandas in a future version. Import from datetime module instead.\n",
      "  \n"
     ]
    }
   ],
   "source": [
    "#MAking Month as Index Column and Initializing it \n",
    "Time_Series = pd.read_csv(\"C:/Users/Vaibhav Banga/Downloads/AirPassengers.csv\", date_parser = Dateparser ,index_col= 'Month' , parse_dates=['Month'])"
   ]
  },
  {
   "cell_type": "code",
   "execution_count": 10,
   "metadata": {},
   "outputs": [
    {
     "data": {
      "text/html": [
       "<div>\n",
       "<style scoped>\n",
       "    .dataframe tbody tr th:only-of-type {\n",
       "        vertical-align: middle;\n",
       "    }\n",
       "\n",
       "    .dataframe tbody tr th {\n",
       "        vertical-align: top;\n",
       "    }\n",
       "\n",
       "    .dataframe thead th {\n",
       "        text-align: right;\n",
       "    }\n",
       "</style>\n",
       "<table border=\"1\" class=\"dataframe\">\n",
       "  <thead>\n",
       "    <tr style=\"text-align: right;\">\n",
       "      <th></th>\n",
       "      <th>#Passengers</th>\n",
       "    </tr>\n",
       "    <tr>\n",
       "      <th>Month</th>\n",
       "      <th></th>\n",
       "    </tr>\n",
       "  </thead>\n",
       "  <tbody>\n",
       "    <tr>\n",
       "      <th>1949-01-01</th>\n",
       "      <td>112</td>\n",
       "    </tr>\n",
       "    <tr>\n",
       "      <th>1949-02-01</th>\n",
       "      <td>118</td>\n",
       "    </tr>\n",
       "    <tr>\n",
       "      <th>1949-03-01</th>\n",
       "      <td>132</td>\n",
       "    </tr>\n",
       "    <tr>\n",
       "      <th>1949-04-01</th>\n",
       "      <td>129</td>\n",
       "    </tr>\n",
       "    <tr>\n",
       "      <th>1949-05-01</th>\n",
       "      <td>121</td>\n",
       "    </tr>\n",
       "  </tbody>\n",
       "</table>\n",
       "</div>"
      ],
      "text/plain": [
       "            #Passengers\n",
       "Month                  \n",
       "1949-01-01          112\n",
       "1949-02-01          118\n",
       "1949-03-01          132\n",
       "1949-04-01          129\n",
       "1949-05-01          121"
      ]
     },
     "execution_count": 10,
     "metadata": {},
     "output_type": "execute_result"
    }
   ],
   "source": [
    "Time_Series.head()"
   ]
  },
  {
   "cell_type": "code",
   "execution_count": 11,
   "metadata": {},
   "outputs": [
    {
     "name": "stdout",
     "output_type": "stream",
     "text": [
      "<class 'pandas.core.frame.DataFrame'>\n",
      "DatetimeIndex: 144 entries, 1949-01-01 to 1960-12-01\n",
      "Data columns (total 1 columns):\n",
      " #   Column       Non-Null Count  Dtype\n",
      "---  ------       --------------  -----\n",
      " 0   #Passengers  144 non-null    int64\n",
      "dtypes: int64(1)\n",
      "memory usage: 2.2 KB\n"
     ]
    }
   ],
   "source": [
    "Time_Series.info()"
   ]
  },
  {
   "cell_type": "code",
   "execution_count": 12,
   "metadata": {},
   "outputs": [
    {
     "data": {
      "text/plain": [
       "DatetimeIndex(['1949-01-01', '1949-02-01', '1949-03-01', '1949-04-01',\n",
       "               '1949-05-01', '1949-06-01', '1949-07-01', '1949-08-01',\n",
       "               '1949-09-01', '1949-10-01',\n",
       "               ...\n",
       "               '1960-03-01', '1960-04-01', '1960-05-01', '1960-06-01',\n",
       "               '1960-07-01', '1960-08-01', '1960-09-01', '1960-10-01',\n",
       "               '1960-11-01', '1960-12-01'],\n",
       "              dtype='datetime64[ns]', name='Month', length=144, freq=None)"
      ]
     },
     "execution_count": 12,
     "metadata": {},
     "output_type": "execute_result"
    }
   ],
   "source": [
    "Time_Series.index"
   ]
  },
  {
   "cell_type": "markdown",
   "metadata": {},
   "source": [
    "# Visualizing The Dataset"
   ]
  },
  {
   "cell_type": "code",
   "execution_count": 13,
   "metadata": {},
   "outputs": [
    {
     "data": {
      "text/plain": [
       "[<matplotlib.lines.Line2D at 0x15cb25ea448>]"
      ]
     },
     "execution_count": 13,
     "metadata": {},
     "output_type": "execute_result"
    },
    {
     "data": {
      "image/png": "[encoded data removed]",
      "text/plain": [
       "<Figure size 432x288 with 1 Axes>"
      ]
     },
     "metadata": {
      "needs_background": "light"
     },
     "output_type": "display_data"
    }
   ],
   "source": [
    "#Plot Date\n",
    "plt.plot(Time_Series['#Passengers'], color = 'Blue')"
   ]
  },
  {
   "cell_type": "markdown",
   "metadata": {},
   "source": [
    "# Identifying Trend - Visualizing Way"
   ]
  },
  {
   "cell_type": "code",
   "execution_count": 14,
   "metadata": {},
   "outputs": [
    {
     "data": {
      "text/plain": [
       "<matplotlib.axes._subplots.AxesSubplot at 0x15cb2de7bc8>"
      ]
     },
     "execution_count": 14,
     "metadata": {},
     "output_type": "execute_result"
    },
    {
     "data": {
      "image/png": "[encoded data removed]",
      "text/plain": [
       "<Figure size 432x288 with 1 Axes>"
      ]
     },
     "metadata": {
      "needs_background": "light"
     },
     "output_type": "display_data"
    }
   ],
   "source": [
    "#To Identify The Trend - By Smoothening `\n",
    "Time_Series['#Passengers'].rolling(12).mean().plot(color = 'Green')\n",
    "#Upward Trend"
   ]
  },
  {
   "cell_type": "markdown",
   "metadata": {},
   "source": [
    "# Testing For The Stationary Dataset - Scientific Way\n"
   ]
  },
  {
   "cell_type": "code",
   "execution_count": 15,
   "metadata": {},
   "outputs": [
    {
     "data": {
      "text/plain": [
       "array([112, 118, 132, 129, 121, 135, 148, 148, 136, 119, 104, 118, 115,\n",
       "       126, 141, 135, 125, 149, 170, 170, 158, 133, 114, 140, 145, 150,\n",
       "       178, 163, 172, 178, 199, 199, 184, 162, 146, 166, 171, 180, 193,\n",
       "       181, 183, 218, 230, 242, 209, 191, 172, 194, 196, 196, 236, 235,\n",
       "       229, 243, 264, 272, 237, 211, 180, 201, 204, 188, 235, 227, 234,\n",
       "       264, 302, 293, 259, 229, 203, 229, 242, 233, 267, 269, 270, 315,\n",
       "       364, 347, 312, 274, 237, 278, 284, 277, 317, 313, 318, 374, 413,\n",
       "       405, 355, 306, 271, 306, 315, 301, 356, 348, 355, 422, 465, 467,\n",
       "       404, 347, 305, 336, 340, 318, 362, 348, 363, 435, 491, 505, 404,\n",
       "       359, 310, 337, 360, 342, 406, 396, 420, 472, 548, 559, 463, 407,\n",
       "       362, 405, 417, 391, 419, 461, 472, 535, 622, 606, 508, 461, 390,\n",
       "       432], dtype=int64)"
      ]
     },
     "execution_count": 15,
     "metadata": {},
     "output_type": "execute_result"
    }
   ],
   "source": [
    "#Test Name/Method Name - Augmented Dicky fuller Test\n",
    "#H0 : if p>0.05 then it is a non-stationary time series Dataset\n",
    "from statsmodels.tsa.stattools import adfuller\n",
    "#adfuller doesn't work with the Pandas so we have to convert it to the Numpy\n",
    "Time_Series['#Passengers'].values"
   ]
  },
  {
   "cell_type": "code",
   "execution_count": 16,
   "metadata": {},
   "outputs": [],
   "source": [
    "result = adfuller(Time_Series['#Passengers'].values)"
   ]
  },
  {
   "cell_type": "code",
   "execution_count": 17,
   "metadata": {},
   "outputs": [
    {
     "data": {
      "text/plain": [
       "(0.8153688792060543,\n",
       " 0.9918802434376411,\n",
       " 13,\n",
       " 130,\n",
       " {'1%': -3.4816817173418295,\n",
       "  '5%': -2.8840418343195267,\n",
       "  '10%': -2.578770059171598},\n",
       " 996.692930839019)"
      ]
     },
     "execution_count": 17,
     "metadata": {},
     "output_type": "execute_result"
    }
   ],
   "source": [
    "result\n",
    "#result[1] = p Value"
   ]
  },
  {
   "cell_type": "code",
   "execution_count": 18,
   "metadata": {},
   "outputs": [
    {
     "data": {
      "text/plain": [
       "0.9918802434376411"
      ]
     },
     "execution_count": 18,
     "metadata": {},
     "output_type": "execute_result"
    }
   ],
   "source": [
    "p_value = result[1]\n",
    "p_value"
   ]
  },
  {
   "cell_type": "markdown",
   "metadata": {},
   "source": [
    "# Convert To Stationary Dataset "
   ]
  },
  {
   "cell_type": "code",
   "execution_count": 19,
   "metadata": {},
   "outputs": [
    {
     "data": {
      "text/plain": [
       "array([4.71849887, 4.77068462, 4.88280192, 4.8598124 , 4.79579055,\n",
       "       4.90527478, 4.99721227, 4.99721227, 4.91265489, 4.77912349,\n",
       "       4.6443909 , 4.77068462, 4.74493213, 4.83628191, 4.94875989,\n",
       "       4.90527478, 4.82831374, 5.00394631, 5.13579844, 5.13579844,\n",
       "       5.06259503, 4.89034913, 4.73619845, 4.94164242, 4.97673374,\n",
       "       5.01063529, 5.18178355, 5.0937502 , 5.14749448, 5.18178355,\n",
       "       5.29330482, 5.29330482, 5.21493576, 5.08759634, 4.98360662,\n",
       "       5.11198779, 5.14166356, 5.19295685, 5.26269019, 5.19849703,\n",
       "       5.20948615, 5.38449506, 5.43807931, 5.48893773, 5.34233425,\n",
       "       5.25227343, 5.14749448, 5.26785816, 5.27811466, 5.27811466,\n",
       "       5.46383181, 5.45958551, 5.433722  , 5.49306144, 5.5759491 ,\n",
       "       5.60580207, 5.46806014, 5.35185813, 5.19295685, 5.30330491,\n",
       "       5.31811999, 5.23644196, 5.45958551, 5.42495002, 5.45532112,\n",
       "       5.5759491 , 5.71042702, 5.68017261, 5.55682806, 5.433722  ,\n",
       "       5.31320598, 5.433722  , 5.48893773, 5.45103845, 5.58724866,\n",
       "       5.59471138, 5.59842196, 5.75257264, 5.89715387, 5.84932478,\n",
       "       5.74300319, 5.61312811, 5.46806014, 5.62762111, 5.64897424,\n",
       "       5.62401751, 5.75890177, 5.74620319, 5.76205138, 5.9242558 ,\n",
       "       6.02344759, 6.00388707, 5.87211779, 5.7235851 , 5.60211882,\n",
       "       5.7235851 , 5.75257264, 5.70711026, 5.87493073, 5.85220248,\n",
       "       5.87211779, 6.04500531, 6.14203741, 6.14632926, 6.00141488,\n",
       "       5.84932478, 5.72031178, 5.81711116, 5.82894562, 5.76205138,\n",
       "       5.89164421, 5.85220248, 5.89440283, 6.07534603, 6.19644413,\n",
       "       6.22455843, 6.00141488, 5.88332239, 5.7365723 , 5.82008293,\n",
       "       5.88610403, 5.83481074, 6.00635316, 5.98141421, 6.04025471,\n",
       "       6.15697899, 6.30627529, 6.32614947, 6.13772705, 6.00881319,\n",
       "       5.89164421, 6.00388707, 6.03308622, 5.96870756, 6.03787092,\n",
       "       6.13339804, 6.15697899, 6.28226675, 6.43294009, 6.40687999,\n",
       "       6.23048145, 6.13339804, 5.96614674, 6.06842559])"
      ]
     },
     "execution_count": 19,
     "metadata": {},
     "output_type": "execute_result"
    }
   ],
   "source": [
    "#1 Taking log of the Dataset\n",
    "log = np.log(Time_Series['#Passengers'].values)\n",
    "log"
   ]
  },
  {
   "cell_type": "code",
   "execution_count": 20,
   "metadata": {},
   "outputs": [
    {
     "data": {
      "text/plain": [
       "[<matplotlib.lines.Line2D at 0x15cb5326948>]"
      ]
     },
     "execution_count": 20,
     "metadata": {},
     "output_type": "execute_result"
    },
    {
     "data": {
      "image/png": "[encoded data removed]",
      "text/plain": [
       "<Figure size 432x288 with 1 Axes>"
      ]
     },
     "metadata": {
      "needs_background": "light"
     },
     "output_type": "display_data"
    }
   ],
   "source": [
    "plt.plot(log)"
   ]
  },
  {
   "cell_type": "code",
   "execution_count": 21,
   "metadata": {},
   "outputs": [
    {
     "data": {
      "text/plain": [
       "array([10.58300524, 10.86278049, 11.48912529, 11.35781669, 11.        ,\n",
       "       11.61895004, 12.16552506, 12.16552506, 11.66190379, 10.90871211,\n",
       "       10.19803903, 10.86278049, 10.72380529, 11.22497216, 11.87434209,\n",
       "       11.61895004, 11.18033989, 12.20655562, 13.03840481, 13.03840481,\n",
       "       12.56980509, 11.53256259, 10.67707825, 11.83215957, 12.04159458,\n",
       "       12.24744871, 13.34166406, 12.76714533, 13.11487705, 13.34166406,\n",
       "       14.10673598, 14.10673598, 13.56465997, 12.72792206, 12.08304597,\n",
       "       12.88409873, 13.07669683, 13.41640786, 13.89244399, 13.45362405,\n",
       "       13.52774926, 14.76482306, 15.16575089, 15.55634919, 14.45683229,\n",
       "       13.82027496, 13.11487705, 13.92838828, 14.        , 14.        ,\n",
       "       15.3622915 , 15.32970972, 15.13274595, 15.58845727, 16.24807681,\n",
       "       16.4924225 , 15.39480432, 14.52583905, 13.41640786, 14.17744688,\n",
       "       14.28285686, 13.7113092 , 15.32970972, 15.06651917, 15.29705854,\n",
       "       16.24807681, 17.3781472 , 17.11724277, 16.09347694, 15.13274595,\n",
       "       14.24780685, 15.13274595, 15.55634919, 15.26433752, 16.34013464,\n",
       "       16.40121947, 16.43167673, 17.74823935, 19.07878403, 18.62793601,\n",
       "       17.66352173, 16.55294536, 15.39480432, 16.673332  , 16.85229955,\n",
       "       16.64331698, 17.80449381, 17.69180601, 17.8325545 , 19.33907961,\n",
       "       20.32240143, 20.1246118 , 18.84144368, 17.49285568, 16.46207763,\n",
       "       17.49285568, 17.74823935, 17.34935157, 18.86796226, 18.65475811,\n",
       "       18.84144368, 20.54263858, 21.56385865, 21.61018278, 20.09975124,\n",
       "       18.62793601, 17.4642492 , 18.33030278, 18.43908891, 17.8325545 ,\n",
       "       19.02629759, 18.65475811, 19.05255888, 20.85665361, 22.15851981,\n",
       "       22.47220505, 20.09975124, 18.94729532, 17.60681686, 18.35755975,\n",
       "       18.97366596, 18.49324201, 20.14944168, 19.89974874, 20.49390153,\n",
       "       21.72556098, 23.40939982, 23.64318084, 21.51743479, 20.174241  ,\n",
       "       19.02629759, 20.1246118 , 20.42057786, 19.77371993, 20.46948949,\n",
       "       21.47091055, 21.72556098, 23.13006701, 24.93992783, 24.61706725,\n",
       "       22.53885534, 21.47091055, 19.74841766, 20.78460969])"
      ]
     },
     "execution_count": 21,
     "metadata": {},
     "output_type": "execute_result"
    }
   ],
   "source": [
    "#2 To Take the Square Root of the Dataset\n",
    "sqrt = np.sqrt(Time_Series['#Passengers'].values)\n",
    "sqrt"
   ]
  },
  {
   "cell_type": "code",
   "execution_count": 22,
   "metadata": {},
   "outputs": [
    {
     "data": {
      "text/plain": [
       "[<matplotlib.lines.Line2D at 0x15cb539a548>]"
      ]
     },
     "execution_count": 22,
     "metadata": {},
     "output_type": "execute_result"
    },
    {
     "data": {
      "image/png": "[encoded data removed]",
      "text/plain": [
       "<Figure size 432x288 with 1 Axes>"
      ]
     },
     "metadata": {
      "needs_background": "light"
     },
     "output_type": "display_data"
    }
   ],
   "source": [
    "plt.plot(sqrt)"
   ]
  },
  {
   "cell_type": "code",
   "execution_count": 23,
   "metadata": {},
   "outputs": [
    {
     "data": {
      "text/plain": [
       "array([112, 118, 132, 129, 121, 135, 148, 148, 136, 119, 104, 118, 115,\n",
       "       126, 141, 135, 125, 149, 170, 170, 158, 133, 114, 140, 145, 150,\n",
       "       178, 163, 172, 178, 199, 199, 184, 162, 146, 166, 171, 180, 193,\n",
       "       181, 183, 218, 230, 242, 209, 191, 172, 194, 196, 196, 236, 235,\n",
       "       229, 243, 264, 272, 237, 211, 180, 201, 204, 188, 235, 227, 234,\n",
       "       264, 302, 293, 259, 229, 203, 229, 242, 233, 267, 269, 270, 315,\n",
       "       364, 347, 312, 274, 237, 278, 284, 277, 317, 313, 318, 374, 413,\n",
       "       405, 355, 306, 271, 306, 315, 301, 356, 348, 355, 422, 465, 467,\n",
       "       404, 347, 305, 336, 340, 318, 362, 348, 363, 435, 491, 505, 404,\n",
       "       359, 310, 337, 360, 342, 406, 396, 420, 472, 548, 559, 463, 407,\n",
       "       362, 405, 417, 391, 419, 461, 472, 535, 622, 606, 508, 461, 390,\n",
       "       432], dtype=int64)"
      ]
     },
     "execution_count": 23,
     "metadata": {},
     "output_type": "execute_result"
    }
   ],
   "source": [
    "#3 First Order Differencing\n",
    "Time_Series['#Passengers'].values"
   ]
  },
  {
   "cell_type": "code",
   "execution_count": 24,
   "metadata": {},
   "outputs": [
    {
     "data": {
      "text/plain": [
       "array([   6,   14,   -3,   -8,   14,   13,    0,  -12,  -17,  -15,   14,\n",
       "         -3,   11,   15,   -6,  -10,   24,   21,    0,  -12,  -25,  -19,\n",
       "         26,    5,    5,   28,  -15,    9,    6,   21,    0,  -15,  -22,\n",
       "        -16,   20,    5,    9,   13,  -12,    2,   35,   12,   12,  -33,\n",
       "        -18,  -19,   22,    2,    0,   40,   -1,   -6,   14,   21,    8,\n",
       "        -35,  -26,  -31,   21,    3,  -16,   47,   -8,    7,   30,   38,\n",
       "         -9,  -34,  -30,  -26,   26,   13,   -9,   34,    2,    1,   45,\n",
       "         49,  -17,  -35,  -38,  -37,   41,    6,   -7,   40,   -4,    5,\n",
       "         56,   39,   -8,  -50,  -49,  -35,   35,    9,  -14,   55,   -8,\n",
       "          7,   67,   43,    2,  -63,  -57,  -42,   31,    4,  -22,   44,\n",
       "        -14,   15,   72,   56,   14, -101,  -45,  -49,   27,   23,  -18,\n",
       "         64,  -10,   24,   52,   76,   11,  -96,  -56,  -45,   43,   12,\n",
       "        -26,   28,   42,   11,   63,   87,  -16,  -98,  -47,  -71,   42],\n",
       "      dtype=int64)"
      ]
     },
     "execution_count": 24,
     "metadata": {},
     "output_type": "execute_result"
    }
   ],
   "source": [
    "np.diff(Time_Series['#Passengers'].values)"
   ]
  },
  {
   "cell_type": "code",
   "execution_count": 25,
   "metadata": {},
   "outputs": [
    {
     "data": {
      "text/plain": [
       "[<matplotlib.lines.Line2D at 0x15cb5407dc8>]"
      ]
     },
     "execution_count": 25,
     "metadata": {},
     "output_type": "execute_result"
    },
    {
     "data": {
      "image/png": "[encoded data removed]",
      "text/plain": [
       "<Figure size 432x288 with 1 Axes>"
      ]
     },
     "metadata": {
      "needs_background": "light"
     },
     "output_type": "display_data"
    }
   ],
   "source": [
    "plt.plot(np.diff(Time_Series['#Passengers'].values))\n",
    "#Now it is Stationary "
   ]
  },
  {
   "cell_type": "code",
   "execution_count": 26,
   "metadata": {},
   "outputs": [
    {
     "data": {
      "text/plain": [
       "(-2.8292668241700034,\n",
       " 0.054213290283824954,\n",
       " 12,\n",
       " 130,\n",
       " {'1%': -3.4816817173418295,\n",
       "  '5%': -2.8840418343195267,\n",
       "  '10%': -2.578770059171598},\n",
       " 988.5069317854084)"
      ]
     },
     "execution_count": 26,
     "metadata": {},
     "output_type": "execute_result"
    }
   ],
   "source": [
    "from statsmodels.tsa.stattools import adfuller\n",
    "result_1 = adfuller(np.diff(Time_Series['#Passengers'].values))\n",
    "result_1"
   ]
  },
  {
   "cell_type": "code",
   "execution_count": 27,
   "metadata": {},
   "outputs": [
    {
     "data": {
      "text/plain": [
       "0.054213290283824954"
      ]
     },
     "execution_count": 27,
     "metadata": {},
     "output_type": "execute_result"
    }
   ],
   "source": [
    "P_value1 = result_1[1]\n",
    "P_value1\n",
    "# It is quite Close but non-stationary"
   ]
  },
  {
   "cell_type": "markdown",
   "metadata": {},
   "source": [
    "# Modelling or Forecasting"
   ]
  },
  {
   "cell_type": "code",
   "execution_count": 28,
   "metadata": {},
   "outputs": [
    {
     "name": "stderr",
     "output_type": "stream",
     "text": [
      "C:\\Users\\Vaibhav Banga\\anaconda3\\lib\\site-packages\\statsmodels\\tsa\\base\\tsa_model.py:162: ValueWarning: No frequency information was provided, so inferred frequency MS will be used.\n",
      "  % freq, ValueWarning)\n"
     ]
    }
   ],
   "source": [
    "#1 Simple Exponential Smoothing\n",
    "from statsmodels.tsa.api import SimpleExpSmoothing\n",
    "Simple = SimpleExpSmoothing(Time_Series).fit(smoothing_level = 0.2,optimized = False)"
   ]
  },
  {
   "cell_type": "code",
   "execution_count": 29,
   "metadata": {},
   "outputs": [
    {
     "data": {
      "text/plain": [
       "<matplotlib.axes._subplots.AxesSubplot at 0x15cb57eca88>"
      ]
     },
     "execution_count": 29,
     "metadata": {},
     "output_type": "execute_result"
    },
    {
     "data": {
      "image/png": "[encoded data removed]",
      "text/plain": [
       "<Figure size 432x288 with 1 Axes>"
      ]
     },
     "metadata": {
      "needs_background": "light"
     },
     "output_type": "display_data"
    }
   ],
   "source": [
    "forecast = Simple.forecast(12)\n",
    "forecast.plot(color='Red')"
   ]
  },
  {
   "cell_type": "code",
   "execution_count": 30,
   "metadata": {},
   "outputs": [
    {
     "data": {
      "text/plain": [
       "<matplotlib.axes._subplots.AxesSubplot at 0x15cb58691c8>"
      ]
     },
     "execution_count": 30,
     "metadata": {},
     "output_type": "execute_result"
    },
    {
     "data": {
      "image/png": "[encoded data removed]",
      "text/plain": [
       "<Figure size 432x288 with 1 Axes>"
      ]
     },
     "metadata": {
      "needs_background": "light"
     },
     "output_type": "display_data"
    }
   ],
   "source": [
    "#Plot Data\n",
    "Time_Series['#Passengers'].plot(color = 'Blue')\n",
    "forecast.plot(color='Red')"
   ]
  },
  {
   "cell_type": "code",
   "execution_count": 31,
   "metadata": {},
   "outputs": [
    {
     "name": "stderr",
     "output_type": "stream",
     "text": [
      "C:\\Users\\Vaibhav Banga\\anaconda3\\lib\\site-packages\\statsmodels\\tsa\\base\\tsa_model.py:162: ValueWarning: No frequency information was provided, so inferred frequency MS will be used.\n",
      "  % freq, ValueWarning)\n",
      "C:\\Users\\Vaibhav Banga\\anaconda3\\lib\\site-packages\\statsmodels\\tsa\\holtwinters.py:725: RuntimeWarning: invalid value encountered in less_equal\n",
      "  loc = initial_p <= lb\n",
      "C:\\Users\\Vaibhav Banga\\anaconda3\\lib\\site-packages\\statsmodels\\tsa\\holtwinters.py:731: RuntimeWarning: invalid value encountered in greater_equal\n",
      "  loc = initial_p >= ub\n",
      "C:\\Users\\Vaibhav Banga\\anaconda3\\lib\\site-packages\\statsmodels\\tsa\\holtwinters.py:744: ConvergenceWarning: Optimization failed to converge. Check mle_retvals.\n",
      "  ConvergenceWarning)\n"
     ]
    }
   ],
   "source": [
    "#2 Holt Winter Exponential Smoothing\n",
    "from statsmodels.tsa.api import ExponentialSmoothing\n",
    "Simple = ExponentialSmoothing(Time_Series,seasonal_periods = 6, trend = 'add' , seasonal = 'add').fit(use_boxcox = True)"
   ]
  },
  {
   "cell_type": "code",
   "execution_count": 32,
   "metadata": {},
   "outputs": [],
   "source": [
    "forecast = Simple.forecast(12)"
   ]
  },
  {
   "cell_type": "code",
   "execution_count": 33,
   "metadata": {},
   "outputs": [
    {
     "data": {
      "text/plain": [
       "<matplotlib.axes._subplots.AxesSubplot at 0x15cb59103c8>"
      ]
     },
     "execution_count": 33,
     "metadata": {},
     "output_type": "execute_result"
    },
    {
     "data": {
      "image/png": "[encoded data removed]",
      "text/plain": [
       "<Figure size 432x288 with 1 Axes>"
      ]
     },
     "metadata": {
      "needs_background": "light"
     },
     "output_type": "display_data"
    }
   ],
   "source": [
    "Time_Series['#Passengers'].plot(color = 'Blue')\n",
    "forecast.plot(color = 'Red')"
   ]
  },
  {
   "cell_type": "code",
   "execution_count": 36,
   "metadata": {},
   "outputs": [
    {
     "name": "stderr",
     "output_type": "stream",
     "text": [
      "C:\\Users\\Vaibhav Banga\\anaconda3\\lib\\site-packages\\statsmodels\\tsa\\base\\tsa_model.py:162: ValueWarning: No frequency information was provided, so inferred frequency MS will be used.\n",
      "  % freq, ValueWarning)\n",
      "C:\\Users\\Vaibhav Banga\\anaconda3\\lib\\site-packages\\statsmodels\\tsa\\base\\tsa_model.py:162: ValueWarning: No frequency information was provided, so inferred frequency MS will be used.\n",
      "  % freq, ValueWarning)\n"
     ]
    }
   ],
   "source": [
    "#3 ARIMA MODEL\n",
    "from statsmodels.tsa.arima_model import ARIMA\n",
    "#Fit the Model by defining p,d,q\n",
    "#P = 5\n",
    "#d= 1\n",
    "#q(MA) = 0 \n",
    "model = ARIMA(Time_Series,(5,1,0))\n",
    "model_fit = model.fit(disp = 0)"
   ]
  },
  {
   "cell_type": "code",
   "execution_count": 65,
   "metadata": {},
   "outputs": [
    {
     "data": {
      "text/plain": [
       "array([112, 118, 132, 129, 121, 135, 148, 148, 136, 119, 104, 118, 115,\n",
       "       126, 141, 135, 125, 149, 170, 170, 158, 133, 114, 140, 145, 150,\n",
       "       178, 163, 172, 178, 199, 199, 184, 162, 146, 166, 171, 180, 193,\n",
       "       181, 183, 218, 230, 242, 209, 191, 172, 194, 196, 196, 236, 235,\n",
       "       229, 243, 264, 272, 237, 211, 180, 201, 204, 188, 235, 227, 234,\n",
       "       264, 302, 293, 259, 229, 203, 229, 242, 233, 267, 269, 270, 315,\n",
       "       364, 347, 312, 274, 237, 278, 284, 277, 317, 313, 318, 374, 413,\n",
       "       405, 355, 306, 271, 306, 315, 301, 356, 348, 355, 422, 465, 467,\n",
       "       404, 347, 305, 336, 340, 318, 362, 348, 363, 435, 491, 505, 404,\n",
       "       359, 310, 337, 360, 342, 406, 396, 420, 472, 548, 559, 463, 407,\n",
       "       362, 405, 417, 391, 419, 461, 472, 535, 622, 606, 508, 461, 390,\n",
       "       432], dtype=int64)"
      ]
     },
     "execution_count": 65,
     "metadata": {},
     "output_type": "execute_result"
    }
   ],
   "source": [
    "X=Time_Series['#Passengers'].values\n",
    "X"
   ]
  },
  {
   "cell_type": "code",
   "execution_count": 66,
   "metadata": {},
   "outputs": [
    {
     "data": {
      "text/plain": [
       "144"
      ]
     },
     "execution_count": 66,
     "metadata": {},
     "output_type": "execute_result"
    }
   ],
   "source": [
    "len(X)"
   ]
  },
  {
   "cell_type": "code",
   "execution_count": 67,
   "metadata": {},
   "outputs": [
    {
     "data": {
      "text/plain": [
       "108.0"
      ]
     },
     "execution_count": 67,
     "metadata": {},
     "output_type": "execute_result"
    }
   ],
   "source": [
    "len(X)*0.75"
   ]
  },
  {
   "cell_type": "code",
   "execution_count": 80,
   "metadata": {},
   "outputs": [],
   "source": [
    "train = x[0:108]\n",
    "test = x[108:]"
   ]
  },
  {
   "cell_type": "code",
   "execution_count": 69,
   "metadata": {},
   "outputs": [],
   "source": [
    "#from sklearn.model_selection import train_test_split\n",
    "#train,test = train_test_split(x[0:108],x[108:],test_size = 0.25,random_state = 0)"
   ]
  },
  {
   "cell_type": "code",
   "execution_count": 73,
   "metadata": {},
   "outputs": [
    {
     "name": "stdout",
     "output_type": "stream",
     "text": [
      "340 [383.34904667]\n",
      "318 [351.78128575]\n",
      "362 [322.73934256]\n",
      "348 [372.88441427]\n",
      "363 [333.33245973]\n",
      "435 [382.49344325]\n",
      "491 [435.78778595]\n",
      "505 [502.00627297]\n",
      "404 [497.70195673]\n",
      "359 [347.1301488]\n",
      "310 [364.77733425]\n",
      "337 [307.29744384]\n",
      "360 [394.59500137]\n",
      "342 [377.73120967]\n",
      "406 [343.94594614]\n",
      "396 [419.24802946]\n",
      "420 [377.26906857]\n",
      "472 [433.78416512]\n",
      "548 [462.00891412]\n",
      "559 [569.72776595]\n",
      "463 [544.07484667]\n",
      "407 [418.3504484]\n",
      "362 [395.54346145]\n",
      "405 [369.15412687]\n",
      "417 [462.55625318]\n",
      "391 [430.29440869]\n",
      "419 [386.85435731]\n",
      "461 [420.18551471]\n",
      "472 [470.78832081]\n",
      "535 [474.01421786]\n",
      "622 [543.79505249]\n",
      "606 [632.76048041]\n",
      "508 [582.87826138]\n",
      "461 [464.22944811]\n",
      "390 [454.92080919]\n",
      "432 [387.99463339]\n"
     ]
    }
   ],
   "source": [
    "history = [x for x in train]\n",
    "prediction = list()\n",
    "\n",
    "for t in range(len(test)):\n",
    "    #Prediction\n",
    "    model = ARIMA(history,(5,1,0))\n",
    "    model_fit = model.fit(disp = 0)\n",
    "    forecast = model_fit.forecast()\n",
    "    y_pred = forecast[0]\n",
    "    prediction.append(y_pred)\n",
    "    #Actual\n",
    "    obs = test[t]\n",
    "    history.append(obs)\n",
    "    print(obs,y_pred)"
   ]
  },
  {
   "cell_type": "code",
   "execution_count": 79,
   "metadata": {},
   "outputs": [
    {
     "data": {
      "text/plain": [
       "[<matplotlib.lines.Line2D at 0x15cb7ccd9c8>]"
      ]
     },
     "execution_count": 79,
     "metadata": {},
     "output_type": "execute_result"
    },
    {
     "data": {
      "image/png": "[encoded data removed]",
      "text/plain": [
       "<Figure size 432x288 with 1 Axes>"
      ]
     },
     "metadata": {
      "needs_background": "light"
     },
     "output_type": "display_data"
    }
   ],
   "source": [
    "plt.plot(test,color = 'Blue')\n",
    "plt.plot(prediction,color = 'Red')"
   ]
  }
 ],
 "metadata": {
  "kernelspec": {
   "display_name": "Python 3",
   "language": "python",
   "name": "python3"
  },
  "language_info": {
   "codemirror_mode": {
    "name": "ipython",
    "version": 3
   },
   "file_extension": ".py",
   "mimetype": "text/x-python",
   "name": "python",
   "nbconvert_exporter": "python",
   "pygments_lexer": "ipython3",
   "version": "3.7.6"
  }
 },
 "nbformat": 4,
 "nbformat_minor": 4
}
